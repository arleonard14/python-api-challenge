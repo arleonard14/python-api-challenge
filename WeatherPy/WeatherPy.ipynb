{
 "cells": [
  {
   "cell_type": "markdown",
   "metadata": {},
   "source": [
    "# WeatherPy\n",
    "----\n",
    "\n",
    "#### Note\n",
    "* Instructions have been included for each segment. You do not have to follow them exactly, but they are included to help you think through the steps."
   ]
  },
  {
   "cell_type": "code",
   "execution_count": 30,
   "metadata": {
    "scrolled": true
   },
   "outputs": [],
   "source": [
    "# Dependencies and Setup\n",
    "import matplotlib.pyplot as plt\n",
    "import pandas as pd\n",
    "import numpy as np\n",
    "import requests\n",
    "import time\n",
    "from scipy.stats import linregress\n",
    "\n",
    "# Import API key\n",
    "from api_keys import weather_api_key\n",
    "temp = \"imperial\"\n",
    "\n",
    "# Incorporated citipy to determine city based on latitude and longitude\n",
    "from citipy import citipy\n",
    "\n",
    "# Output File (CSV)\n",
    "output_data_file = \"output_data/cities.csv\"\n",
    "\n",
    "# Range of latitudes and longitudes\n",
    "lat_range = (-90, 90)\n",
    "lng_range = (-180, 180)"
   ]
  },
  {
   "cell_type": "markdown",
   "metadata": {},
   "source": [
    "## Generate Cities List"
   ]
  },
  {
   "cell_type": "code",
   "execution_count": 31,
   "metadata": {},
   "outputs": [
    {
     "data": {
      "text/plain": [
       "595"
      ]
     },
     "execution_count": 31,
     "metadata": {},
     "output_type": "execute_result"
    }
   ],
   "source": [
    "# List for holding lat_lngs and cities\n",
    "lat_lngs = []\n",
    "cities = []\n",
    "\n",
    "# Create a set of random lat and lng combinations\n",
    "lats = np.random.uniform(lat_range[0], lat_range[1], size=1500)\n",
    "lngs = np.random.uniform(lng_range[0], lng_range[1], size=1500)\n",
    "lat_lngs = zip(lats, lngs)\n",
    "\n",
    "# Identify nearest city for each lat, lng combination\n",
    "for lat_lng in lat_lngs:\n",
    "    city = citipy.nearest_city(lat_lng[0], lat_lng[1]).city_name\n",
    "    \n",
    "    # If the city is unique, then add it to a our cities list\n",
    "    if city not in cities:\n",
    "        cities.append(city)\n",
    "\n",
    "# Print the city count to confirm sufficient count\n",
    "len(cities)"
   ]
  },
  {
   "cell_type": "markdown",
   "metadata": {},
   "source": [
    "### Perform API Calls\n",
    "* Perform a weather check on each city using a series of successive API calls.\n",
    "* Include a print log of each city as it'sbeing processed (with the city number and city name).\n"
   ]
  },
  {
   "cell_type": "code",
   "execution_count": 32,
   "metadata": {
    "scrolled": true
   },
   "outputs": [
    {
     "name": "stdout",
     "output_type": "stream",
     "text": [
      "City not found.\n",
      "Processing Record 1 of Set 1 | halvad\n",
      "Processing Record 2 of Set 1 | basco\n",
      "Processing Record 3 of Set 1 | kapaa\n",
      "Processing Record 4 of Set 1 | kununurra\n",
      "Processing Record 5 of Set 1 | geraldton\n",
      "City not found.\n",
      "Processing Record 6 of Set 1 | torbay\n",
      "Processing Record 7 of Set 1 | tasiilaq\n",
      "Processing Record 8 of Set 1 | hithadhoo\n",
      "Processing Record 9 of Set 1 | vallenar\n",
      "Processing Record 10 of Set 1 | rikitea\n",
      "Processing Record 11 of Set 1 | iquitos\n",
      "Processing Record 12 of Set 1 | mehamn\n",
      "Processing Record 13 of Set 1 | san policarpo\n",
      "Processing Record 14 of Set 1 | gravelbourg\n",
      "City not found.\n",
      "Processing Record 15 of Set 1 | hobart\n",
      "Processing Record 16 of Set 1 | alpine\n",
      "Processing Record 17 of Set 1 | dingle\n",
      "Processing Record 18 of Set 1 | albany\n",
      "Processing Record 19 of Set 1 | bluff\n",
      "Processing Record 20 of Set 1 | ilulissat\n",
      "City not found.\n",
      "Processing Record 21 of Set 1 | saiha\n",
      "Processing Record 22 of Set 1 | saint-ambroise\n",
      "Processing Record 23 of Set 1 | samarai\n",
      "Processing Record 24 of Set 1 | ushuaia\n",
      "Processing Record 25 of Set 1 | cape town\n",
      "City not found.\n",
      "Processing Record 26 of Set 1 | mataura\n",
      "Processing Record 27 of Set 1 | kelso\n",
      "Processing Record 28 of Set 1 | biak\n",
      "Processing Record 29 of Set 1 | guerrero negro\n",
      "Processing Record 30 of Set 1 | newport\n",
      "Processing Record 31 of Set 1 | mount isa\n",
      "Processing Record 32 of Set 1 | high level\n",
      "Processing Record 33 of Set 1 | fengzhen\n",
      "Processing Record 34 of Set 1 | lodja\n",
      "Processing Record 35 of Set 1 | puerto ayora\n",
      "City not found.\n",
      "Processing Record 36 of Set 1 | provideniya\n",
      "Processing Record 37 of Set 1 | alekseyevsk\n",
      "City not found.\n",
      "Processing Record 38 of Set 1 | aitape\n",
      "Processing Record 39 of Set 1 | chuy\n",
      "Processing Record 40 of Set 1 | isangel\n",
      "Processing Record 41 of Set 1 | port elizabeth\n",
      "Processing Record 42 of Set 1 | jamestown\n",
      "Processing Record 43 of Set 1 | krasnovishersk\n",
      "Processing Record 44 of Set 1 | ouro preto do oeste\n",
      "Processing Record 45 of Set 1 | sterlibashevo\n",
      "Processing Record 46 of Set 1 | bredasdorp\n",
      "Processing Record 47 of Set 1 | nikolskoye\n",
      "Processing Record 48 of Set 1 | goure\n",
      "Processing Record 49 of Set 1 | banda aceh\n",
      "City not found.\n",
      "Processing Record 1 of Set 2 | butaritari\n",
      "Processing Record 2 of Set 2 | port alfred\n",
      "Processing Record 3 of Set 2 | caravelas\n",
      "Processing Record 4 of Set 2 | lorengau\n",
      "Processing Record 5 of Set 2 | ongandjera\n",
      "Processing Record 6 of Set 2 | kavieng\n",
      "Processing Record 7 of Set 2 | hay river\n",
      "Processing Record 8 of Set 2 | punta arenas\n",
      "Processing Record 9 of Set 2 | comodoro rivadavia\n",
      "Processing Record 10 of Set 2 | hermanus\n",
      "Processing Record 11 of Set 2 | tripoli\n",
      "Processing Record 12 of Set 2 | toora-khem\n",
      "Processing Record 13 of Set 2 | dali\n",
      "Processing Record 14 of Set 2 | upernavik\n",
      "Processing Record 15 of Set 2 | castro\n",
      "Processing Record 16 of Set 2 | domoni\n",
      "Processing Record 17 of Set 2 | kaitangata\n",
      "Processing Record 18 of Set 2 | lavrentiya\n",
      "Processing Record 19 of Set 2 | leningradskiy\n",
      "Processing Record 20 of Set 2 | saldanha\n",
      "Processing Record 21 of Set 2 | ponta do sol\n",
      "Processing Record 22 of Set 2 | kampene\n",
      "Processing Record 23 of Set 2 | tashtyp\n",
      "Processing Record 24 of Set 2 | busselton\n",
      "Processing Record 25 of Set 2 | longyearbyen\n",
      "Processing Record 26 of Set 2 | bethel\n",
      "Processing Record 27 of Set 2 | fethiye\n",
      "Processing Record 28 of Set 2 | byron bay\n",
      "Processing Record 29 of Set 2 | new norfolk\n",
      "Processing Record 30 of Set 2 | alyangula\n",
      "Processing Record 31 of Set 2 | tautira\n",
      "Processing Record 32 of Set 2 | carutapera\n",
      "Processing Record 33 of Set 2 | guangyuan\n",
      "Processing Record 34 of Set 2 | taltal\n",
      "Processing Record 35 of Set 2 | hat yai\n",
      "Processing Record 36 of Set 2 | vaitape\n",
      "Processing Record 37 of Set 2 | atuona\n",
      "City not found.\n",
      "Processing Record 38 of Set 2 | hasaki\n",
      "Processing Record 39 of Set 2 | codrington\n",
      "Processing Record 40 of Set 2 | namatanai\n",
      "Processing Record 41 of Set 2 | beringovskiy\n",
      "Processing Record 42 of Set 2 | hamilton\n",
      "Processing Record 43 of Set 2 | yerbogachen\n",
      "City not found.\n",
      "Processing Record 44 of Set 2 | biograd na moru\n",
      "Processing Record 45 of Set 2 | aripuana\n",
      "Processing Record 46 of Set 2 | olafsvik\n",
      "City not found.\n",
      "Processing Record 47 of Set 2 | constitucion\n",
      "Processing Record 48 of Set 2 | niquero\n",
      "Processing Record 49 of Set 2 | coihaique\n",
      "Processing Record 1 of Set 3 | kismayo\n",
      "Processing Record 2 of Set 3 | buala\n",
      "City not found.\n",
      "Processing Record 3 of Set 3 | chumikan\n",
      "City not found.\n",
      "Processing Record 4 of Set 3 | chokurdakh\n",
      "Processing Record 5 of Set 3 | roald\n",
      "Processing Record 6 of Set 3 | lagoa\n",
      "Processing Record 7 of Set 3 | ancud\n",
      "Processing Record 8 of Set 3 | sangar\n",
      "Processing Record 9 of Set 3 | bambanglipuro\n",
      "Processing Record 10 of Set 3 | santiago\n",
      "Processing Record 11 of Set 3 | jiazi\n",
      "Processing Record 12 of Set 3 | kristiansund\n",
      "Processing Record 13 of Set 3 | hastings\n",
      "Processing Record 14 of Set 3 | maniitsoq\n",
      "Processing Record 15 of Set 3 | arrecife\n",
      "Processing Record 16 of Set 3 | tuatapere\n",
      "Processing Record 17 of Set 3 | draguignan\n",
      "Processing Record 18 of Set 3 | mahebourg\n",
      "Processing Record 19 of Set 3 | saskylakh\n",
      "City not found.\n",
      "Processing Record 20 of Set 3 | esperance\n",
      "Processing Record 21 of Set 3 | norman wells\n",
      "Processing Record 22 of Set 3 | nanortalik\n",
      "Processing Record 23 of Set 3 | dikson\n",
      "Processing Record 24 of Set 3 | bur gabo\n",
      "City not found.\n",
      "Processing Record 25 of Set 3 | luderitz\n",
      "Processing Record 26 of Set 3 | pedregulho\n",
      "Processing Record 27 of Set 3 | laguna\n",
      "Processing Record 28 of Set 3 | lebu\n",
      "Processing Record 29 of Set 3 | quincy\n",
      "Processing Record 30 of Set 3 | vaini\n",
      "Processing Record 31 of Set 3 | qaqortoq\n",
      "Processing Record 32 of Set 3 | borogontsy\n",
      "Processing Record 33 of Set 3 | noumea\n",
      "Processing Record 34 of Set 3 | miandrivazo\n",
      "Processing Record 35 of Set 3 | georgetown\n",
      "Processing Record 36 of Set 3 | mar del plata\n",
      "Processing Record 37 of Set 3 | madera\n",
      "City not found.\n",
      "Processing Record 38 of Set 3 | east london\n",
      "Processing Record 39 of Set 3 | hilo\n",
      "Processing Record 40 of Set 3 | kodiak\n",
      "Processing Record 41 of Set 3 | belluru\n",
      "Processing Record 42 of Set 3 | salinas\n",
      "Processing Record 43 of Set 3 | kashi\n",
      "Processing Record 44 of Set 3 | qaanaaq\n",
      "Processing Record 45 of Set 3 | nueva concepcion\n",
      "Processing Record 46 of Set 3 | caceres\n",
      "Processing Record 47 of Set 3 | iqaluit\n",
      "Processing Record 48 of Set 3 | khatanga\n",
      "Processing Record 49 of Set 3 | cherskiy\n",
      "Processing Record 1 of Set 4 | lancaster\n",
      "Processing Record 2 of Set 4 | bar harbor\n",
      "Processing Record 3 of Set 4 | maldonado\n",
      "Processing Record 4 of Set 4 | bengkulu\n",
      "Processing Record 5 of Set 4 | americus\n",
      "Processing Record 6 of Set 4 | siocon\n",
      "Processing Record 7 of Set 4 | sakakah\n",
      "Processing Record 8 of Set 4 | luwuk\n",
      "Processing Record 9 of Set 4 | marzuq\n",
      "City not found.\n",
      "Processing Record 10 of Set 4 | bagepalli\n",
      "Processing Record 11 of Set 4 | pocatello\n",
      "Processing Record 12 of Set 4 | cangzhou\n",
      "Processing Record 13 of Set 4 | grand gaube\n",
      "Processing Record 14 of Set 4 | dzhebariki-khaya\n",
      "Processing Record 15 of Set 4 | airai\n",
      "Processing Record 16 of Set 4 | boa vista\n",
      "Processing Record 17 of Set 4 | synya\n",
      "City not found.\n",
      "Processing Record 18 of Set 4 | gannan\n",
      "Processing Record 19 of Set 4 | flagstaff\n",
      "Processing Record 20 of Set 4 | barrow\n",
      "Processing Record 21 of Set 4 | lahat\n",
      "Processing Record 22 of Set 4 | cidreira\n",
      "Processing Record 23 of Set 4 | luoyang\n",
      "Processing Record 24 of Set 4 | kimbe\n",
      "Processing Record 25 of Set 4 | lazarev\n",
      "Processing Record 26 of Set 4 | springdale\n",
      "Processing Record 27 of Set 4 | biarritz\n",
      "Processing Record 28 of Set 4 | avarua\n",
      "City not found.\n",
      "Processing Record 29 of Set 4 | valdivia\n",
      "Processing Record 30 of Set 4 | oistins\n",
      "Processing Record 31 of Set 4 | astara\n",
      "Processing Record 32 of Set 4 | zaysan\n",
      "Processing Record 33 of Set 4 | koumac\n",
      "Processing Record 34 of Set 4 | jiehu\n",
      "Processing Record 35 of Set 4 | severo-kurilsk\n",
      "Processing Record 36 of Set 4 | port shepstone\n",
      "City not found.\n",
      "Processing Record 37 of Set 4 | thompson\n",
      "Processing Record 38 of Set 4 | tamandare\n",
      "Processing Record 39 of Set 4 | yellowknife\n",
      "Processing Record 40 of Set 4 | santiago del estero\n",
      "Processing Record 41 of Set 4 | lexington\n",
      "Processing Record 42 of Set 4 | gamba\n",
      "Processing Record 43 of Set 4 | mount gambier\n",
      "Processing Record 44 of Set 4 | warri\n"
     ]
    },
    {
     "name": "stdout",
     "output_type": "stream",
     "text": [
      "Processing Record 45 of Set 4 | ust-nera\n",
      "Processing Record 46 of Set 4 | kurchum\n",
      "Processing Record 47 of Set 4 | sao filipe\n",
      "Processing Record 48 of Set 4 | nioro\n",
      "Processing Record 49 of Set 4 | dehui\n",
      "Processing Record 1 of Set 5 | meulaboh\n",
      "Processing Record 2 of Set 5 | makakilo city\n",
      "City not found.\n",
      "Processing Record 3 of Set 5 | tucson\n",
      "Processing Record 4 of Set 5 | mys shmidta\n",
      "Processing Record 5 of Set 5 | santa elena\n",
      "Processing Record 6 of Set 5 | beloha\n",
      "City not found.\n",
      "Processing Record 7 of Set 5 | camopi\n",
      "Processing Record 8 of Set 5 | aklavik\n",
      "Processing Record 9 of Set 5 | san patricio\n",
      "Processing Record 10 of Set 5 | talnakh\n",
      "Processing Record 11 of Set 5 | pevek\n",
      "Processing Record 12 of Set 5 | port keats\n",
      "Processing Record 13 of Set 5 | sitka\n",
      "Processing Record 14 of Set 5 | katobu\n",
      "Processing Record 15 of Set 5 | karratha\n",
      "City not found.\n",
      "City not found.\n",
      "Processing Record 16 of Set 5 | balkhash\n",
      "Processing Record 17 of Set 5 | tuktoyaktuk\n",
      "Processing Record 18 of Set 5 | tiksi\n",
      "Processing Record 19 of Set 5 | karmala\n",
      "Processing Record 20 of Set 5 | nyurba\n",
      "City not found.\n",
      "Processing Record 21 of Set 5 | pangnirtung\n",
      "Processing Record 22 of Set 5 | nantucket\n",
      "City not found.\n",
      "Processing Record 23 of Set 5 | miramar\n",
      "City not found.\n",
      "Processing Record 24 of Set 5 | saint-pierre\n",
      "Processing Record 25 of Set 5 | hopelchen\n",
      "City not found.\n",
      "Processing Record 26 of Set 5 | jijiga\n",
      "Processing Record 27 of Set 5 | hibbing\n",
      "Processing Record 28 of Set 5 | tiznit\n",
      "Processing Record 29 of Set 5 | college\n",
      "Processing Record 30 of Set 5 | kruisfontein\n",
      "Processing Record 31 of Set 5 | takoradi\n",
      "Processing Record 32 of Set 5 | grindavik\n",
      "Processing Record 33 of Set 5 | nikolayevsk-na-amure\n",
      "Processing Record 34 of Set 5 | elat\n",
      "Processing Record 35 of Set 5 | nanakuli\n",
      "Processing Record 36 of Set 5 | polis\n",
      "Processing Record 37 of Set 5 | nuuk\n",
      "Processing Record 38 of Set 5 | kattivakkam\n",
      "Processing Record 39 of Set 5 | bajitpur\n",
      "Processing Record 40 of Set 5 | maniwaki\n",
      "Processing Record 41 of Set 5 | zalesovo\n",
      "Processing Record 42 of Set 5 | vestmanna\n",
      "Processing Record 43 of Set 5 | tame\n",
      "Processing Record 44 of Set 5 | nome\n",
      "Processing Record 45 of Set 5 | beira\n",
      "Processing Record 46 of Set 5 | bilma\n",
      "Processing Record 47 of Set 5 | richards bay\n",
      "Processing Record 48 of Set 5 | volterra\n",
      "Processing Record 49 of Set 5 | manta\n",
      "Processing Record 1 of Set 6 | aba\n",
      "City not found.\n",
      "Processing Record 2 of Set 6 | tarauaca\n",
      "Processing Record 3 of Set 6 | assiniboia\n",
      "Processing Record 4 of Set 6 | abu dhabi\n",
      "Processing Record 5 of Set 6 | lata\n",
      "Processing Record 6 of Set 6 | ankazoabo\n",
      "Processing Record 7 of Set 6 | tiarei\n",
      "Processing Record 8 of Set 6 | fallon\n",
      "Processing Record 9 of Set 6 | cairns\n",
      "City not found.\n",
      "Processing Record 10 of Set 6 | yeppoon\n",
      "Processing Record 11 of Set 6 | vestmannaeyjar\n",
      "Processing Record 12 of Set 6 | hohhot\n",
      "Processing Record 13 of Set 6 | prieska\n",
      "Processing Record 14 of Set 6 | zhanaozen\n",
      "Processing Record 15 of Set 6 | kieta\n",
      "Processing Record 16 of Set 6 | murray bridge\n",
      "City not found.\n",
      "Processing Record 17 of Set 6 | guarapari\n",
      "City not found.\n",
      "Processing Record 18 of Set 6 | atikokan\n",
      "Processing Record 19 of Set 6 | saint-augustin\n",
      "City not found.\n",
      "City not found.\n",
      "Processing Record 20 of Set 6 | butte\n",
      "Processing Record 21 of Set 6 | katangli\n",
      "Processing Record 22 of Set 6 | bathsheba\n",
      "Processing Record 23 of Set 6 | sorong\n",
      "Processing Record 24 of Set 6 | rock sound\n",
      "Processing Record 25 of Set 6 | kosmynino\n",
      "Processing Record 26 of Set 6 | abu zabad\n",
      "Processing Record 27 of Set 6 | half moon bay\n",
      "Processing Record 28 of Set 6 | katherine\n",
      "City not found.\n",
      "City not found.\n",
      "Processing Record 29 of Set 6 | palmerston\n",
      "Processing Record 30 of Set 6 | hualmay\n",
      "Processing Record 31 of Set 6 | pemangkat\n",
      "Processing Record 32 of Set 6 | alugan\n",
      "Processing Record 33 of Set 6 | amuntai\n",
      "Processing Record 34 of Set 6 | santo domingo suchitepequez\n",
      "Processing Record 35 of Set 6 | clyde river\n",
      "Processing Record 36 of Set 6 | luanda\n",
      "Processing Record 37 of Set 6 | coquimbo\n",
      "Processing Record 38 of Set 6 | nicoya\n",
      "Processing Record 39 of Set 6 | abbeville\n",
      "Processing Record 40 of Set 6 | acari\n",
      "Processing Record 41 of Set 6 | sooke\n",
      "Processing Record 42 of Set 6 | gorodishche\n",
      "Processing Record 43 of Set 6 | tongliao\n",
      "Processing Record 44 of Set 6 | santa rosa\n",
      "Processing Record 45 of Set 6 | kahului\n",
      "City not found.\n",
      "City not found.\n",
      "Processing Record 46 of Set 6 | hambantota\n",
      "Processing Record 47 of Set 6 | victoria\n",
      "Processing Record 48 of Set 6 | dilla\n",
      "Processing Record 49 of Set 6 | cabo san lucas\n",
      "Processing Record 1 of Set 7 | alofi\n",
      "Processing Record 2 of Set 7 | pisco\n",
      "Processing Record 3 of Set 7 | dong hoi\n",
      "Processing Record 4 of Set 7 | riyadh\n",
      "Processing Record 5 of Set 7 | burla\n",
      "Processing Record 6 of Set 7 | kushima\n",
      "Processing Record 7 of Set 7 | inuvik\n",
      "Processing Record 8 of Set 7 | srikakulam\n",
      "Processing Record 9 of Set 7 | grand centre\n",
      "Processing Record 10 of Set 7 | khuchni\n",
      "Processing Record 11 of Set 7 | naze\n",
      "Processing Record 12 of Set 7 | auki\n",
      "Processing Record 13 of Set 7 | bagdarin\n",
      "Processing Record 14 of Set 7 | arrifes\n",
      "Processing Record 15 of Set 7 | labuhan\n",
      "Processing Record 16 of Set 7 | berdigestyakh\n",
      "Processing Record 17 of Set 7 | calama\n",
      "Processing Record 18 of Set 7 | bani walid\n",
      "Processing Record 19 of Set 7 | burnie\n",
      "Processing Record 20 of Set 7 | sechura\n",
      "Processing Record 21 of Set 7 | yar-sale\n",
      "Processing Record 22 of Set 7 | izmit\n",
      "Processing Record 23 of Set 7 | charters towers\n",
      "Processing Record 24 of Set 7 | haines junction\n",
      "Processing Record 25 of Set 7 | khorixas\n",
      "Processing Record 26 of Set 7 | nouadhibou\n",
      "Processing Record 27 of Set 7 | santa cruz\n",
      "Processing Record 28 of Set 7 | vila franca do campo\n",
      "Processing Record 29 of Set 7 | tilichiki\n",
      "City not found.\n",
      "Processing Record 30 of Set 7 | chkalovskoye\n",
      "Processing Record 31 of Set 7 | homer\n",
      "Processing Record 32 of Set 7 | meadow lake\n",
      "Processing Record 33 of Set 7 | monte cristi\n",
      "Processing Record 34 of Set 7 | sebastian\n",
      "Processing Record 35 of Set 7 | nabire\n",
      "Processing Record 36 of Set 7 | fortuna\n",
      "Processing Record 37 of Set 7 | lompoc\n",
      "Processing Record 38 of Set 7 | salalah\n",
      "Processing Record 39 of Set 7 | luena\n",
      "Processing Record 40 of Set 7 | yumen\n",
      "Processing Record 41 of Set 7 | avera\n",
      "Processing Record 42 of Set 7 | conde\n",
      "Processing Record 43 of Set 7 | pacific grove\n",
      "Processing Record 44 of Set 7 | sasolburg\n",
      "Processing Record 45 of Set 7 | touros\n",
      "Processing Record 46 of Set 7 | bauchi\n",
      "Processing Record 47 of Set 7 | saint-philippe\n",
      "City not found.\n",
      "Processing Record 48 of Set 7 | curaca\n",
      "Processing Record 49 of Set 7 | ust-tsilma\n",
      "City not found.\n",
      "Processing Record 1 of Set 8 | sendafa\n",
      "Processing Record 2 of Set 8 | dabakala\n",
      "Processing Record 3 of Set 8 | vostok\n",
      "Processing Record 4 of Set 8 | vila velha\n",
      "Processing Record 5 of Set 8 | puerto escondido\n",
      "City not found.\n",
      "Processing Record 6 of Set 8 | ornskoldsvik\n",
      "Processing Record 7 of Set 8 | doaba\n",
      "City not found.\n",
      "Processing Record 8 of Set 8 | morondava\n",
      "Processing Record 9 of Set 8 | oranjemund\n",
      "Processing Record 10 of Set 8 | longuenesse\n",
      "Processing Record 11 of Set 8 | arraial do cabo\n",
      "City not found.\n",
      "Processing Record 12 of Set 8 | broome\n",
      "Processing Record 13 of Set 8 | miles city\n",
      "Processing Record 14 of Set 8 | tukrah\n",
      "Processing Record 15 of Set 8 | gorontalo\n",
      "Processing Record 16 of Set 8 | algiers\n",
      "Processing Record 17 of Set 8 | havre\n",
      "Processing Record 18 of Set 8 | kargasok\n",
      "Processing Record 19 of Set 8 | bocas del toro\n",
      "Processing Record 20 of Set 8 | garden city\n",
      "Processing Record 21 of Set 8 | preobrazheniye\n",
      "Processing Record 22 of Set 8 | ranong\n",
      "Processing Record 23 of Set 8 | chama\n",
      "City not found.\n",
      "Processing Record 24 of Set 8 | pedernales\n",
      "Processing Record 25 of Set 8 | komsomolskiy\n",
      "Processing Record 26 of Set 8 | sioux lookout\n",
      "Processing Record 27 of Set 8 | thinadhoo\n",
      "City not found.\n",
      "Processing Record 28 of Set 8 | kudahuvadhoo\n",
      "Processing Record 29 of Set 8 | havre-saint-pierre\n",
      "Processing Record 30 of Set 8 | baymak\n",
      "Processing Record 31 of Set 8 | taybad\n",
      "Processing Record 32 of Set 8 | hienghene\n",
      "Processing Record 33 of Set 8 | bull savanna\n",
      "Processing Record 34 of Set 8 | ocampo\n",
      "City not found.\n",
      "City not found.\n",
      "Processing Record 35 of Set 8 | faya\n",
      "Processing Record 36 of Set 8 | dongzhen\n"
     ]
    },
    {
     "name": "stdout",
     "output_type": "stream",
     "text": [
      "Processing Record 37 of Set 8 | zeya\n",
      "City not found.\n",
      "Processing Record 38 of Set 8 | shunyi\n",
      "Processing Record 39 of Set 8 | cacapava do sul\n",
      "Processing Record 40 of Set 8 | santana do livramento\n",
      "Processing Record 41 of Set 8 | olinda\n",
      "Processing Record 42 of Set 8 | olovyannaya\n",
      "Processing Record 43 of Set 8 | gigmoto\n",
      "Processing Record 44 of Set 8 | tavda\n",
      "Processing Record 45 of Set 8 | wonthaggi\n",
      "Processing Record 46 of Set 8 | hanko\n",
      "Processing Record 47 of Set 8 | brainerd\n",
      "Processing Record 48 of Set 8 | mitsamiouli\n",
      "Processing Record 49 of Set 8 | san rafael\n",
      "Processing Record 1 of Set 9 | narsaq\n",
      "Processing Record 2 of Set 9 | miranda\n",
      "Processing Record 3 of Set 9 | roquetas de mar\n",
      "Processing Record 4 of Set 9 | san andres\n",
      "Processing Record 5 of Set 9 | port lincoln\n",
      "Processing Record 6 of Set 9 | rocha\n",
      "Processing Record 7 of Set 9 | chone\n",
      "Processing Record 8 of Set 9 | figeac\n",
      "Processing Record 9 of Set 9 | dunedin\n",
      "Processing Record 10 of Set 9 | oksfjord\n",
      "Processing Record 11 of Set 9 | pochutla\n",
      "City not found.\n",
      "Processing Record 12 of Set 9 | iraray\n",
      "Processing Record 13 of Set 9 | shizunai\n",
      "Processing Record 14 of Set 9 | emerald\n",
      "Processing Record 15 of Set 9 | tanout\n",
      "Processing Record 16 of Set 9 | tuensang\n",
      "Processing Record 17 of Set 9 | alexandria\n",
      "Processing Record 18 of Set 9 | listvyanskiy\n",
      "Processing Record 19 of Set 9 | tura\n",
      "Processing Record 20 of Set 9 | padang\n",
      "Processing Record 21 of Set 9 | alice springs\n",
      "Processing Record 22 of Set 9 | bucerias\n",
      "City not found.\n",
      "City not found.\n",
      "Processing Record 23 of Set 9 | san alberto\n",
      "Processing Record 24 of Set 9 | qasigiannguit\n",
      "Processing Record 25 of Set 9 | ribeira grande\n",
      "Processing Record 26 of Set 9 | sterling\n",
      "Processing Record 27 of Set 9 | sao miguel do araguaia\n",
      "Processing Record 28 of Set 9 | carnarvon\n",
      "Processing Record 29 of Set 9 | raudeberg\n",
      "City not found.\n",
      "Processing Record 30 of Set 9 | khuzhir\n",
      "Processing Record 31 of Set 9 | tahta\n",
      "Processing Record 32 of Set 9 | santa lucia\n",
      "Processing Record 33 of Set 9 | mosquera\n",
      "City not found.\n",
      "Processing Record 34 of Set 9 | wajir\n",
      "Processing Record 35 of Set 9 | qatana\n",
      "Processing Record 36 of Set 9 | evensk\n",
      "City not found.\n",
      "Processing Record 37 of Set 9 | beyneu\n",
      "Processing Record 38 of Set 9 | mnogovershinnyy\n",
      "Processing Record 39 of Set 9 | roebourne\n",
      "Processing Record 40 of Set 9 | klaksvik\n",
      "Processing Record 41 of Set 9 | kavaratti\n",
      "Processing Record 42 of Set 9 | faanui\n",
      "Processing Record 43 of Set 9 | osmena\n",
      "Processing Record 44 of Set 9 | alta floresta\n",
      "Processing Record 45 of Set 9 | sidrolandia\n",
      "Processing Record 46 of Set 9 | marawi\n",
      "Processing Record 47 of Set 9 | tondon\n",
      "Processing Record 48 of Set 9 | nizhniy kuranakh\n",
      "City not found.\n",
      "Processing Record 49 of Set 9 | arman\n",
      "Processing Record 1 of Set 10 | honiara\n",
      "Processing Record 2 of Set 10 | fairbanks\n",
      "Processing Record 3 of Set 10 | hovd\n",
      "Processing Record 4 of Set 10 | deputatskiy\n",
      "Processing Record 5 of Set 10 | snezhnogorsk\n",
      "Processing Record 6 of Set 10 | wattegama\n",
      "Processing Record 7 of Set 10 | gambo\n",
      "City not found.\n",
      "Processing Record 8 of Set 10 | moron\n",
      "Processing Record 9 of Set 10 | pinega\n",
      "City not found.\n",
      "Processing Record 10 of Set 10 | barraute\n",
      "Processing Record 11 of Set 10 | nolinsk\n",
      "Processing Record 12 of Set 10 | grand river south east\n",
      "Processing Record 13 of Set 10 | ndele\n",
      "Processing Record 14 of Set 10 | ballinrobe\n",
      "Processing Record 15 of Set 10 | nyanguge\n",
      "City not found.\n",
      "Processing Record 16 of Set 10 | gizo\n",
      "City not found.\n",
      "Processing Record 17 of Set 10 | hirara\n",
      "Processing Record 18 of Set 10 | sorland\n",
      "City not found.\n",
      "Processing Record 19 of Set 10 | bose\n",
      "City not found.\n",
      "Processing Record 20 of Set 10 | carauari\n",
      "Processing Record 21 of Set 10 | ust-maya\n",
      "City not found.\n",
      "Processing Record 22 of Set 10 | sungaipenuh\n",
      "Processing Record 23 of Set 10 | belin\n",
      "Processing Record 24 of Set 10 | vodyane\n",
      "Processing Record 25 of Set 10 | hervey bay\n",
      "Processing Record 26 of Set 10 | bulawayo\n",
      "Processing Record 27 of Set 10 | qunduz\n",
      "Processing Record 28 of Set 10 | asmara\n",
      "Processing Record 29 of Set 10 | hauterive\n",
      "Processing Record 30 of Set 10 | okhotsk\n",
      "Processing Record 31 of Set 10 | bandarbeyla\n",
      "City not found.\n",
      "Processing Record 32 of Set 10 | strezhevoy\n",
      "City not found.\n",
      "Processing Record 33 of Set 10 | basoko\n",
      "Processing Record 34 of Set 10 | aksarka\n",
      "Processing Record 35 of Set 10 | reconquista\n",
      "Processing Record 36 of Set 10 | malaya vishera\n",
      "City not found.\n",
      "Processing Record 37 of Set 10 | yanam\n",
      "City not found.\n",
      "Processing Record 38 of Set 10 | solnechnyy\n",
      "City not found.\n",
      "Processing Record 39 of Set 10 | angoram\n",
      "Processing Record 40 of Set 10 | portland\n",
      "Processing Record 41 of Set 10 | bobrovka\n",
      "Processing Record 42 of Set 10 | puerto madero\n",
      "City not found.\n",
      "Processing Record 43 of Set 10 | cuencame\n",
      "Processing Record 44 of Set 10 | maymyo\n",
      "Processing Record 45 of Set 10 | yining\n",
      "Processing Record 46 of Set 10 | plouzane\n",
      "Processing Record 47 of Set 10 | antofagasta\n",
      "Processing Record 48 of Set 10 | rawlins\n",
      "Processing Record 49 of Set 10 | tondela\n",
      "Processing Record 1 of Set 11 | nemuro\n",
      "Processing Record 2 of Set 11 | sao miguel do iguacu\n",
      "Processing Record 3 of Set 11 | lukovetskiy\n",
      "Processing Record 4 of Set 11 | lingao\n",
      "Processing Record 5 of Set 11 | ambulu\n",
      "Processing Record 6 of Set 11 | mayumba\n",
      "Processing Record 7 of Set 11 | floresta\n",
      "Processing Record 8 of Set 11 | lahaina\n",
      "Processing Record 9 of Set 11 | juneau\n",
      "Processing Record 10 of Set 11 | husavik\n",
      "Processing Record 11 of Set 11 | leh\n",
      "Processing Record 12 of Set 11 | riberalta\n",
      "Processing Record 13 of Set 11 | cayenne\n",
      "Processing Record 14 of Set 11 | katsuura\n",
      "Processing Record 15 of Set 11 | acapulco\n",
      "Processing Record 16 of Set 11 | jiexiu\n",
      "Processing Record 17 of Set 11 | arlit\n",
      "Processing Record 18 of Set 11 | vanavara\n",
      "Processing Record 19 of Set 11 | santa rosalia\n",
      "Processing Record 20 of Set 11 | ambon\n",
      "Processing Record 21 of Set 11 | westport\n",
      "Processing Record 22 of Set 11 | port macquarie\n",
      "Processing Record 23 of Set 11 | praia\n",
      "Processing Record 24 of Set 11 | flin flon\n",
      "City not found.\n",
      "Processing Record 25 of Set 11 | esmeraldas\n",
      "Processing Record 26 of Set 11 | aden\n",
      "Processing Record 27 of Set 11 | jardim\n",
      "Processing Record 28 of Set 11 | yzeure\n",
      "Processing Record 29 of Set 11 | buenaventura\n",
      "Processing Record 30 of Set 11 | daru\n",
      "Processing Record 31 of Set 11 | goba\n",
      "Processing Record 32 of Set 11 | wad madani\n",
      "Processing Record 33 of Set 11 | puerto carreno\n",
      "Processing Record 34 of Set 11 | kaeo\n",
      "Processing Record 35 of Set 11 | colesberg\n"
     ]
    }
   ],
   "source": [
    "query_url = f\"http://api.openweathermap.org/data/2.5/weather?appid={weather_api_key}&units={temp}&q=\"\n",
    "\n",
    "\n",
    "#dataframe lists\n",
    "city_list=[]\n",
    "clouds=[]\n",
    "dates=[]\n",
    "humidity=[]\n",
    "lat=[]\n",
    "lng=[]\n",
    "max_temp=[]\n",
    "wind=[]\n",
    "country=[]\n",
    "\n",
    "#set count\n",
    "count=0\n",
    "set=1\n",
    "\n",
    "#dataframe Loop\n",
    "for city in cities:\n",
    "    try:\n",
    "        response = requests.get(query_url + city.replace(\" \",\"&\")).json()\n",
    "        clouds.append(response['clouds']['all'])\n",
    "        country.append(response['sys']['country'])\n",
    "        dates.append(response['dt'])\n",
    "        humidity.append(response['main']['humidity'])\n",
    "        lat.append(response['coord']['lat'])\n",
    "        lng.append(response['coord']['lon'])\n",
    "        max_temp.append(response['main']['temp_max'])\n",
    "        wind.append(response['wind']['speed'])\n",
    "        if count > 48:\n",
    "            count = 1\n",
    "            set += 1\n",
    "            city_list.append(city)\n",
    "        else:\n",
    "            count += 1\n",
    "            city_list.append(city)\n",
    "        print(f\"Processing Record {count} of Set {set} | {city}\")\n",
    "    except Exception:\n",
    "        print(\"City not found.\")"
   ]
  },
  {
   "cell_type": "markdown",
   "metadata": {},
   "source": [
    "### Convert Raw Data to DataFrame\n",
    "* Export the city data into a .csv.\n",
    "* Display the DataFrame"
   ]
  },
  {
   "cell_type": "code",
   "execution_count": 33,
   "metadata": {},
   "outputs": [],
   "source": [
    "city_dict={\"City\": city_list, \"Latitude\": lat,\n",
    "           \"Longitude\": lng, \"Max Temp\": max_temp,\n",
    "           \"Humidity\": humidity, \"Cloudiness\":clouds,\n",
    "          \"Wind Speed\": wind, \"Country\": country, \"Date\":dates}"
   ]
  },
  {
   "cell_type": "code",
   "execution_count": 34,
   "metadata": {},
   "outputs": [
    {
     "data": {
      "text/html": [
       "<div>\n",
       "<style scoped>\n",
       "    .dataframe tbody tr th:only-of-type {\n",
       "        vertical-align: middle;\n",
       "    }\n",
       "\n",
       "    .dataframe tbody tr th {\n",
       "        vertical-align: top;\n",
       "    }\n",
       "\n",
       "    .dataframe thead th {\n",
       "        text-align: right;\n",
       "    }\n",
       "</style>\n",
       "<table border=\"1\" class=\"dataframe\">\n",
       "  <thead>\n",
       "    <tr style=\"text-align: right;\">\n",
       "      <th></th>\n",
       "      <th>City</th>\n",
       "      <th>Latitude</th>\n",
       "      <th>Longitude</th>\n",
       "      <th>Max Temp</th>\n",
       "      <th>Humidity</th>\n",
       "      <th>Cloudiness</th>\n",
       "      <th>Wind Speed</th>\n",
       "      <th>Country</th>\n",
       "      <th>Date</th>\n",
       "    </tr>\n",
       "  </thead>\n",
       "  <tbody>\n",
       "    <tr>\n",
       "      <th>0</th>\n",
       "      <td>halvad</td>\n",
       "      <td>23.0167</td>\n",
       "      <td>71.1833</td>\n",
       "      <td>92.52</td>\n",
       "      <td>21</td>\n",
       "      <td>0</td>\n",
       "      <td>8.75</td>\n",
       "      <td>IN</td>\n",
       "      <td>1619366012</td>\n",
       "    </tr>\n",
       "    <tr>\n",
       "      <th>1</th>\n",
       "      <td>basco</td>\n",
       "      <td>20.4487</td>\n",
       "      <td>121.9702</td>\n",
       "      <td>75.94</td>\n",
       "      <td>75</td>\n",
       "      <td>100</td>\n",
       "      <td>17.05</td>\n",
       "      <td>PH</td>\n",
       "      <td>1619366013</td>\n",
       "    </tr>\n",
       "    <tr>\n",
       "      <th>2</th>\n",
       "      <td>kapaa</td>\n",
       "      <td>22.0752</td>\n",
       "      <td>-159.3190</td>\n",
       "      <td>73.40</td>\n",
       "      <td>78</td>\n",
       "      <td>75</td>\n",
       "      <td>13.80</td>\n",
       "      <td>US</td>\n",
       "      <td>1619366013</td>\n",
       "    </tr>\n",
       "    <tr>\n",
       "      <th>3</th>\n",
       "      <td>kununurra</td>\n",
       "      <td>-15.7667</td>\n",
       "      <td>128.7333</td>\n",
       "      <td>60.80</td>\n",
       "      <td>88</td>\n",
       "      <td>70</td>\n",
       "      <td>1.14</td>\n",
       "      <td>AU</td>\n",
       "      <td>1619366013</td>\n",
       "    </tr>\n",
       "    <tr>\n",
       "      <th>4</th>\n",
       "      <td>geraldton</td>\n",
       "      <td>-28.7667</td>\n",
       "      <td>114.6000</td>\n",
       "      <td>62.60</td>\n",
       "      <td>82</td>\n",
       "      <td>0</td>\n",
       "      <td>3.44</td>\n",
       "      <td>AU</td>\n",
       "      <td>1619366014</td>\n",
       "    </tr>\n",
       "  </tbody>\n",
       "</table>\n",
       "</div>"
      ],
      "text/plain": [
       "        City  Latitude  Longitude  Max Temp  Humidity  Cloudiness  Wind Speed  \\\n",
       "0     halvad   23.0167    71.1833     92.52        21           0        8.75   \n",
       "1      basco   20.4487   121.9702     75.94        75         100       17.05   \n",
       "2      kapaa   22.0752  -159.3190     73.40        78          75       13.80   \n",
       "3  kununurra  -15.7667   128.7333     60.80        88          70        1.14   \n",
       "4  geraldton  -28.7667   114.6000     62.60        82           0        3.44   \n",
       "\n",
       "  Country        Date  \n",
       "0      IN  1619366012  \n",
       "1      PH  1619366013  \n",
       "2      US  1619366013  \n",
       "3      AU  1619366013  \n",
       "4      AU  1619366014  "
      ]
     },
     "execution_count": 34,
     "metadata": {},
     "output_type": "execute_result"
    }
   ],
   "source": [
    "weather_df=pd.DataFrame(city_dict)\n",
    "weather_df.head()"
   ]
  },
  {
   "cell_type": "code",
   "execution_count": 48,
   "metadata": {},
   "outputs": [],
   "source": [
    "weather_df.to_csv(\"output_data.csv\")"
   ]
  },
  {
   "cell_type": "code",
   "execution_count": null,
   "metadata": {},
   "outputs": [],
   "source": []
  },
  {
   "cell_type": "markdown",
   "metadata": {},
   "source": [
    "## Inspect the data and remove the cities where the humidity > 100%.\n",
    "----\n",
    "Skip this step if there are no cities that have humidity > 100%. "
   ]
  },
  {
   "cell_type": "code",
   "execution_count": 60,
   "metadata": {},
   "outputs": [
    {
     "data": {
      "text/html": [
       "<div>\n",
       "<style scoped>\n",
       "    .dataframe tbody tr th:only-of-type {\n",
       "        vertical-align: middle;\n",
       "    }\n",
       "\n",
       "    .dataframe tbody tr th {\n",
       "        vertical-align: top;\n",
       "    }\n",
       "\n",
       "    .dataframe thead th {\n",
       "        text-align: right;\n",
       "    }\n",
       "</style>\n",
       "<table border=\"1\" class=\"dataframe\">\n",
       "  <thead>\n",
       "    <tr style=\"text-align: right;\">\n",
       "      <th></th>\n",
       "      <th>City</th>\n",
       "      <th>Latitude</th>\n",
       "      <th>Longitude</th>\n",
       "      <th>Max Temp</th>\n",
       "      <th>Humidity</th>\n",
       "      <th>Cloudiness</th>\n",
       "      <th>Wind Speed</th>\n",
       "      <th>Country</th>\n",
       "      <th>Date</th>\n",
       "    </tr>\n",
       "  </thead>\n",
       "  <tbody>\n",
       "    <tr>\n",
       "      <th>41</th>\n",
       "      <td>jamestown</td>\n",
       "      <td>42.0970</td>\n",
       "      <td>-79.2353</td>\n",
       "      <td>48.99</td>\n",
       "      <td>100</td>\n",
       "      <td>90</td>\n",
       "      <td>12.66</td>\n",
       "      <td>US</td>\n",
       "      <td>1619366024</td>\n",
       "    </tr>\n",
       "    <tr>\n",
       "      <th>78</th>\n",
       "      <td>alyangula</td>\n",
       "      <td>-13.8483</td>\n",
       "      <td>136.4192</td>\n",
       "      <td>77.00</td>\n",
       "      <td>100</td>\n",
       "      <td>82</td>\n",
       "      <td>5.75</td>\n",
       "      <td>AU</td>\n",
       "      <td>1619366035</td>\n",
       "    </tr>\n",
       "    <tr>\n",
       "      <th>83</th>\n",
       "      <td>hat yai</td>\n",
       "      <td>49.9464</td>\n",
       "      <td>18.2393</td>\n",
       "      <td>48.00</td>\n",
       "      <td>100</td>\n",
       "      <td>77</td>\n",
       "      <td>7.00</td>\n",
       "      <td>CZ</td>\n",
       "      <td>1619366036</td>\n",
       "    </tr>\n",
       "    <tr>\n",
       "      <th>104</th>\n",
       "      <td>ancud</td>\n",
       "      <td>-41.8697</td>\n",
       "      <td>-73.8203</td>\n",
       "      <td>57.99</td>\n",
       "      <td>100</td>\n",
       "      <td>90</td>\n",
       "      <td>1.03</td>\n",
       "      <td>CL</td>\n",
       "      <td>1619366043</td>\n",
       "    </tr>\n",
       "    <tr>\n",
       "      <th>127</th>\n",
       "      <td>vaini</td>\n",
       "      <td>-21.2000</td>\n",
       "      <td>-175.2000</td>\n",
       "      <td>73.40</td>\n",
       "      <td>100</td>\n",
       "      <td>75</td>\n",
       "      <td>1.14</td>\n",
       "      <td>TO</td>\n",
       "      <td>1619366050</td>\n",
       "    </tr>\n",
       "    <tr>\n",
       "      <th>130</th>\n",
       "      <td>noumea</td>\n",
       "      <td>-22.2763</td>\n",
       "      <td>166.4572</td>\n",
       "      <td>69.80</td>\n",
       "      <td>100</td>\n",
       "      <td>75</td>\n",
       "      <td>3.44</td>\n",
       "      <td>NC</td>\n",
       "      <td>1619366051</td>\n",
       "    </tr>\n",
       "    <tr>\n",
       "      <th>175</th>\n",
       "      <td>valdivia</td>\n",
       "      <td>-39.8142</td>\n",
       "      <td>-73.2459</td>\n",
       "      <td>48.20</td>\n",
       "      <td>100</td>\n",
       "      <td>90</td>\n",
       "      <td>3.44</td>\n",
       "      <td>CL</td>\n",
       "      <td>1619366063</td>\n",
       "    </tr>\n",
       "    <tr>\n",
       "      <th>290</th>\n",
       "      <td>hambantota</td>\n",
       "      <td>6.1241</td>\n",
       "      <td>81.1185</td>\n",
       "      <td>80.60</td>\n",
       "      <td>100</td>\n",
       "      <td>75</td>\n",
       "      <td>1.14</td>\n",
       "      <td>LK</td>\n",
       "      <td>1619366097</td>\n",
       "    </tr>\n",
       "    <tr>\n",
       "      <th>294</th>\n",
       "      <td>alofi</td>\n",
       "      <td>-19.0595</td>\n",
       "      <td>-169.9187</td>\n",
       "      <td>69.80</td>\n",
       "      <td>100</td>\n",
       "      <td>94</td>\n",
       "      <td>1.14</td>\n",
       "      <td>NU</td>\n",
       "      <td>1619365994</td>\n",
       "    </tr>\n",
       "    <tr>\n",
       "      <th>446</th>\n",
       "      <td>wattegama</td>\n",
       "      <td>6.7989</td>\n",
       "      <td>81.4808</td>\n",
       "      <td>80.60</td>\n",
       "      <td>100</td>\n",
       "      <td>75</td>\n",
       "      <td>1.14</td>\n",
       "      <td>LK</td>\n",
       "      <td>1619366140</td>\n",
       "    </tr>\n",
       "  </tbody>\n",
       "</table>\n",
       "</div>"
      ],
      "text/plain": [
       "           City  Latitude  Longitude  Max Temp  Humidity  Cloudiness  \\\n",
       "41    jamestown   42.0970   -79.2353     48.99       100          90   \n",
       "78    alyangula  -13.8483   136.4192     77.00       100          82   \n",
       "83      hat yai   49.9464    18.2393     48.00       100          77   \n",
       "104       ancud  -41.8697   -73.8203     57.99       100          90   \n",
       "127       vaini  -21.2000  -175.2000     73.40       100          75   \n",
       "130      noumea  -22.2763   166.4572     69.80       100          75   \n",
       "175    valdivia  -39.8142   -73.2459     48.20       100          90   \n",
       "290  hambantota    6.1241    81.1185     80.60       100          75   \n",
       "294       alofi  -19.0595  -169.9187     69.80       100          94   \n",
       "446   wattegama    6.7989    81.4808     80.60       100          75   \n",
       "\n",
       "     Wind Speed Country        Date  \n",
       "41        12.66      US  1619366024  \n",
       "78         5.75      AU  1619366035  \n",
       "83         7.00      CZ  1619366036  \n",
       "104        1.03      CL  1619366043  \n",
       "127        1.14      TO  1619366050  \n",
       "130        3.44      NC  1619366051  \n",
       "175        3.44      CL  1619366063  \n",
       "290        1.14      LK  1619366097  \n",
       "294        1.14      NU  1619365994  \n",
       "446        1.14      LK  1619366140  "
      ]
     },
     "execution_count": 60,
     "metadata": {},
     "output_type": "execute_result"
    }
   ],
   "source": [
    "weather_df[weather_df['Humidity']==weather_df['Humidity'].max()]\n"
   ]
  },
  {
   "cell_type": "code",
   "execution_count": 17,
   "metadata": {},
   "outputs": [
    {
     "data": {
      "text/plain": [
       "Int64Index([], dtype='int64')"
      ]
     },
     "execution_count": 17,
     "metadata": {},
     "output_type": "execute_result"
    }
   ],
   "source": [
    "#  Get the indices of cities that have humidity over 100%.\n",
    "# No values over 100"
   ]
  },
  {
   "cell_type": "code",
   "execution_count": 19,
   "metadata": {},
   "outputs": [
    {
     "data": {
      "text/html": [
       "<div>\n",
       "<style scoped>\n",
       "    .dataframe tbody tr th:only-of-type {\n",
       "        vertical-align: middle;\n",
       "    }\n",
       "\n",
       "    .dataframe tbody tr th {\n",
       "        vertical-align: top;\n",
       "    }\n",
       "\n",
       "    .dataframe thead th {\n",
       "        text-align: right;\n",
       "    }\n",
       "</style>\n",
       "<table border=\"1\" class=\"dataframe\">\n",
       "  <thead>\n",
       "    <tr style=\"text-align: right;\">\n",
       "      <th></th>\n",
       "      <th>City</th>\n",
       "      <th>Lat</th>\n",
       "      <th>Lng</th>\n",
       "      <th>Max Temp</th>\n",
       "      <th>Humidity</th>\n",
       "      <th>Cloudiness</th>\n",
       "      <th>Wind Speed</th>\n",
       "      <th>Country</th>\n",
       "      <th>Date</th>\n",
       "    </tr>\n",
       "  </thead>\n",
       "  <tbody>\n",
       "    <tr>\n",
       "      <td>0</td>\n",
       "      <td>butaritari</td>\n",
       "      <td>3.07</td>\n",
       "      <td>172.79</td>\n",
       "      <td>83.32</td>\n",
       "      <td>74</td>\n",
       "      <td>84</td>\n",
       "      <td>10.42</td>\n",
       "      <td>KI</td>\n",
       "      <td>1593605283</td>\n",
       "    </tr>\n",
       "    <tr>\n",
       "      <td>1</td>\n",
       "      <td>yerbogachen</td>\n",
       "      <td>61.28</td>\n",
       "      <td>108.01</td>\n",
       "      <td>79.52</td>\n",
       "      <td>58</td>\n",
       "      <td>20</td>\n",
       "      <td>7.70</td>\n",
       "      <td>RU</td>\n",
       "      <td>1593605121</td>\n",
       "    </tr>\n",
       "    <tr>\n",
       "      <td>2</td>\n",
       "      <td>cape town</td>\n",
       "      <td>-33.93</td>\n",
       "      <td>18.42</td>\n",
       "      <td>73.00</td>\n",
       "      <td>77</td>\n",
       "      <td>27</td>\n",
       "      <td>4.70</td>\n",
       "      <td>ZA</td>\n",
       "      <td>1593605039</td>\n",
       "    </tr>\n",
       "    <tr>\n",
       "      <td>3</td>\n",
       "      <td>touba</td>\n",
       "      <td>8.28</td>\n",
       "      <td>-7.68</td>\n",
       "      <td>79.97</td>\n",
       "      <td>75</td>\n",
       "      <td>82</td>\n",
       "      <td>3.58</td>\n",
       "      <td>CI</td>\n",
       "      <td>1593605284</td>\n",
       "    </tr>\n",
       "    <tr>\n",
       "      <td>4</td>\n",
       "      <td>jamestown</td>\n",
       "      <td>42.10</td>\n",
       "      <td>-79.24</td>\n",
       "      <td>64.00</td>\n",
       "      <td>88</td>\n",
       "      <td>1</td>\n",
       "      <td>6.93</td>\n",
       "      <td>US</td>\n",
       "      <td>1593605284</td>\n",
       "    </tr>\n",
       "  </tbody>\n",
       "</table>\n",
       "</div>"
      ],
      "text/plain": [
       "          City    Lat     Lng  Max Temp  Humidity  Cloudiness  Wind Speed  \\\n",
       "0   butaritari   3.07  172.79     83.32        74          84       10.42   \n",
       "1  yerbogachen  61.28  108.01     79.52        58          20        7.70   \n",
       "2    cape town -33.93   18.42     73.00        77          27        4.70   \n",
       "3        touba   8.28   -7.68     79.97        75          82        3.58   \n",
       "4    jamestown  42.10  -79.24     64.00        88           1        6.93   \n",
       "\n",
       "  Country        Date  \n",
       "0      KI  1593605283  \n",
       "1      RU  1593605121  \n",
       "2      ZA  1593605039  \n",
       "3      CI  1593605284  \n",
       "4      US  1593605284  "
      ]
     },
     "execution_count": 19,
     "metadata": {},
     "output_type": "execute_result"
    }
   ],
   "source": [
    "# Make a new DataFrame equal to the city data to drop all humidity outliers by index.\n",
    "# Passing \"inplace=False\" will make a copy of the city_data DataFrame, which we call \"clean_city_data\".\n"
   ]
  },
  {
   "cell_type": "code",
   "execution_count": null,
   "metadata": {},
   "outputs": [],
   "source": [
    "\n"
   ]
  },
  {
   "cell_type": "markdown",
   "metadata": {},
   "source": [
    "## Plotting the Data\n",
    "* Use proper labeling of the plots using plot titles (including date of analysis) and axes labels.\n",
    "* Save the plotted figures as .pngs."
   ]
  },
  {
   "cell_type": "markdown",
   "metadata": {},
   "source": [
    "## Latitude vs. Temperature Plot"
   ]
  },
  {
   "cell_type": "code",
   "execution_count": 68,
   "metadata": {
    "scrolled": true
   },
   "outputs": [
    {
     "data": {
      "image/png": "[encoded data removed]",
      "text/plain": [
       "<Figure size 432x288 with 1 Axes>"
      ]
     },
     "metadata": {
      "needs_background": "light"
     },
     "output_type": "display_data"
    }
   ],
   "source": [
    "plt.scatter(weather_df[\"Latitude\"],weather_df[\"Max Temp\"],facecolors=\"blue\")\n",
    "plt.title(\"Latitude vs. Max Temp (04/25/21)\")\n",
    "plt.xlabel(\"Latitude\")\n",
    "plt.ylabel(\"Max Temperature (F)\")\n",
    "plt.grid (b=True,which=\"major\",axis=\"both\",linestyle=\"-\",color=\"lightgrey\")\n",
    "plt.savefig(\"Charts/chart1.png\")\n",
    "plt.show()"
   ]
  },
  {
   "cell_type": "markdown",
   "metadata": {},
   "source": [
    "## Latitude vs. Humidity Plot"
   ]
  },
  {
   "cell_type": "code",
   "execution_count": 69,
   "metadata": {},
   "outputs": [
    {
     "data": {
      "image/png": "[encoded data removed]",
      "text/plain": [
       "<Figure size 432x288 with 1 Axes>"
      ]
     },
     "metadata": {
      "needs_background": "light"
     },
     "output_type": "display_data"
    }
   ],
   "source": [
    "plt.scatter(weather_df[\"Latitude\"],weather_df[\"Humidity\"],facecolors=\"blue\")\n",
    "plt.title(\"Latitude vs. Humidity (04/25/21)\")\n",
    "plt.xlabel(\"Latitude\")\n",
    "plt.ylabel(\"Humidity\")\n",
    "plt.grid (b=True,which=\"major\",axis=\"both\",linestyle=\"-\",color=\"lightgrey\")\n",
    "plt.savefig(\"Charts/chart2.png\")\n",
    "plt.show()"
   ]
  },
  {
   "cell_type": "markdown",
   "metadata": {},
   "source": [
    "## Latitude vs. Cloudiness Plot"
   ]
  },
  {
   "cell_type": "code",
   "execution_count": 70,
   "metadata": {},
   "outputs": [
    {
     "data": {
      "image/png": "[encoded data removed]",
      "text/plain": [
       "<Figure size 432x288 with 1 Axes>"
      ]
     },
     "metadata": {
      "needs_background": "light"
     },
     "output_type": "display_data"
    }
   ],
   "source": [
    "plt.scatter(weather_df[\"Latitude\"],weather_df[\"Cloudiness\"],facecolors=\"blue\")\n",
    "plt.title(\"Latitude vs. Cloudiness (04/25/21)\")\n",
    "plt.xlabel(\"Latitude\")\n",
    "plt.ylabel(\"Cloudiness\")\n",
    "plt.grid (b=True,which=\"major\",axis=\"both\",linestyle=\"-\",color=\"lightgrey\")\n",
    "plt.savefig(\"Charts/chart3.png\")\n",
    "plt.show()"
   ]
  },
  {
   "cell_type": "markdown",
   "metadata": {},
   "source": [
    "## Latitude vs. Wind Speed Plot"
   ]
  },
  {
   "cell_type": "code",
   "execution_count": 71,
   "metadata": {},
   "outputs": [
    {
     "data": {
      "image/png": "[encoded data removed]",
      "text/plain": [
       "<Figure size 432x288 with 1 Axes>"
      ]
     },
     "metadata": {
      "needs_background": "light"
     },
     "output_type": "display_data"
    }
   ],
   "source": [
    "plt.scatter(weather_df[\"Latitude\"],weather_df[\"Wind Speed\"],facecolors=\"blue\")\n",
    "plt.title(\"Latitude vs. Wind Speed (04/25/21)\")\n",
    "plt.xlabel(\"Latitude\")\n",
    "plt.ylabel(\"Wind Speed\")\n",
    "plt.grid (b=True,which=\"major\",axis=\"both\",linestyle=\"-\",color=\"lightgrey\")\n",
    "plt.savefig(\"Charts/chart4.png\")\n",
    "plt.show()"
   ]
  },
  {
   "cell_type": "markdown",
   "metadata": {},
   "source": [
    "## Linear Regression"
   ]
  },
  {
   "cell_type": "code",
   "execution_count": 79,
   "metadata": {},
   "outputs": [
    {
     "data": {
      "text/html": [
       "<div>\n",
       "<style scoped>\n",
       "    .dataframe tbody tr th:only-of-type {\n",
       "        vertical-align: middle;\n",
       "    }\n",
       "\n",
       "    .dataframe tbody tr th {\n",
       "        vertical-align: top;\n",
       "    }\n",
       "\n",
       "    .dataframe thead th {\n",
       "        text-align: right;\n",
       "    }\n",
       "</style>\n",
       "<table border=\"1\" class=\"dataframe\">\n",
       "  <thead>\n",
       "    <tr style=\"text-align: right;\">\n",
       "      <th></th>\n",
       "      <th>City</th>\n",
       "      <th>Latitude</th>\n",
       "      <th>Longitude</th>\n",
       "      <th>Max Temp</th>\n",
       "      <th>Humidity</th>\n",
       "      <th>Cloudiness</th>\n",
       "      <th>Wind Speed</th>\n",
       "      <th>Country</th>\n",
       "      <th>Date</th>\n",
       "    </tr>\n",
       "  </thead>\n",
       "  <tbody>\n",
       "    <tr>\n",
       "      <th>0</th>\n",
       "      <td>halvad</td>\n",
       "      <td>23.0167</td>\n",
       "      <td>71.1833</td>\n",
       "      <td>92.52</td>\n",
       "      <td>21</td>\n",
       "      <td>0</td>\n",
       "      <td>8.75</td>\n",
       "      <td>IN</td>\n",
       "      <td>1619366012</td>\n",
       "    </tr>\n",
       "    <tr>\n",
       "      <th>1</th>\n",
       "      <td>basco</td>\n",
       "      <td>20.4487</td>\n",
       "      <td>121.9702</td>\n",
       "      <td>75.94</td>\n",
       "      <td>75</td>\n",
       "      <td>100</td>\n",
       "      <td>17.05</td>\n",
       "      <td>PH</td>\n",
       "      <td>1619366013</td>\n",
       "    </tr>\n",
       "    <tr>\n",
       "      <th>2</th>\n",
       "      <td>kapaa</td>\n",
       "      <td>22.0752</td>\n",
       "      <td>-159.3190</td>\n",
       "      <td>73.40</td>\n",
       "      <td>78</td>\n",
       "      <td>75</td>\n",
       "      <td>13.80</td>\n",
       "      <td>US</td>\n",
       "      <td>1619366013</td>\n",
       "    </tr>\n",
       "    <tr>\n",
       "      <th>5</th>\n",
       "      <td>torbay</td>\n",
       "      <td>47.6666</td>\n",
       "      <td>-52.7314</td>\n",
       "      <td>51.01</td>\n",
       "      <td>40</td>\n",
       "      <td>20</td>\n",
       "      <td>25.32</td>\n",
       "      <td>CA</td>\n",
       "      <td>1619366014</td>\n",
       "    </tr>\n",
       "    <tr>\n",
       "      <th>6</th>\n",
       "      <td>tasiilaq</td>\n",
       "      <td>65.6145</td>\n",
       "      <td>-37.6368</td>\n",
       "      <td>39.20</td>\n",
       "      <td>81</td>\n",
       "      <td>75</td>\n",
       "      <td>17.27</td>\n",
       "      <td>GL</td>\n",
       "      <td>1619366014</td>\n",
       "    </tr>\n",
       "  </tbody>\n",
       "</table>\n",
       "</div>"
      ],
      "text/plain": [
       "       City  Latitude  Longitude  Max Temp  Humidity  Cloudiness  Wind Speed  \\\n",
       "0    halvad   23.0167    71.1833     92.52        21           0        8.75   \n",
       "1     basco   20.4487   121.9702     75.94        75         100       17.05   \n",
       "2     kapaa   22.0752  -159.3190     73.40        78          75       13.80   \n",
       "5    torbay   47.6666   -52.7314     51.01        40          20       25.32   \n",
       "6  tasiilaq   65.6145   -37.6368     39.20        81          75       17.27   \n",
       "\n",
       "  Country        Date  \n",
       "0      IN  1619366012  \n",
       "1      PH  1619366013  \n",
       "2      US  1619366013  \n",
       "5      CA  1619366014  \n",
       "6      GL  1619366014  "
      ]
     },
     "execution_count": 79,
     "metadata": {},
     "output_type": "execute_result"
    }
   ],
   "source": [
    "northern_hem= weather_df.loc[weather_df[\"Latitude\"]>=0]\n",
    "southern_hem=weather_df.loc[weather_df[\"Latitude\"]<0]\n",
    "northern_hem.head()"
   ]
  },
  {
   "cell_type": "markdown",
   "metadata": {},
   "source": [
    "####  Northern Hemisphere - Max Temp vs. Latitude Linear Regression"
   ]
  },
  {
   "cell_type": "code",
   "execution_count": 76,
   "metadata": {
    "scrolled": true
   },
   "outputs": [
    {
     "name": "stdout",
     "output_type": "stream",
     "text": [
      "The r-squared is: 0.3831971988693891\n"
     ]
    },
    {
     "data": {
      "image/png": "[encoded data removed]",
      "text/plain": [
       "<Figure size 432x288 with 1 Axes>"
      ]
     },
     "metadata": {
      "needs_background": "light"
     },
     "output_type": "display_data"
    }
   ],
   "source": [
    "x_values = weather_df['Latitude']\n",
    "y_values = weather_df['Max Temp']\n",
    "(slope, intercept, rvalue, pvalue, stderr) = linregress(x_values, y_values)\n",
    "regress_values = x_values * slope + intercept\n",
    "line_eq = \"y = \" + str(round(slope,2)) + \"x + \" + str(round(intercept,2))\n",
    "plt.scatter(x_values,y_values)\n",
    "plt.plot(x_values,regress_values,\"r-\")\n",
    "plt.annotate(line_eq,(6,10),fontsize=15,color=\"red\")\n",
    "plt.xlabel('Latitude')\n",
    "plt.ylabel('Max Temp (F)')\n",
    "print(f\"The r-squared is: {rvalue**2}\")\n",
    "plt.show()"
   ]
  },
  {
   "cell_type": "markdown",
   "metadata": {},
   "source": [
    "####  Southern Hemisphere - Max Temp vs. Latitude Linear Regression"
   ]
  },
  {
   "cell_type": "code",
   "execution_count": 80,
   "metadata": {},
   "outputs": [
    {
     "name": "stdout",
     "output_type": "stream",
     "text": [
      "The r-squared is: 0.573861095580303\n"
     ]
    },
    {
     "data": {
      "image/png": "[encoded data removed]",
      "text/plain": [
       "<Figure size 432x288 with 1 Axes>"
      ]
     },
     "metadata": {
      "needs_background": "light"
     },
     "output_type": "display_data"
    }
   ],
   "source": [
    "x_values = southern_hem['Latitude']\n",
    "y_values = southern_hem['Max Temp']\n",
    "(slope, intercept, rvalue, pvalue, stderr) = linregress(x_values, y_values)\n",
    "regress_values = x_values * slope + intercept\n",
    "line_eq = \"y = \" + str(round(slope,2)) + \"x + \" + str(round(intercept,2))\n",
    "plt.scatter(x_values,y_values)\n",
    "plt.plot(x_values,regress_values,\"r-\")\n",
    "plt.annotate(line_eq,(6,10),fontsize=15,color=\"red\")\n",
    "plt.xlabel('Latitude')\n",
    "plt.ylabel('Max Temp (F)')\n",
    "print(f\"The r-squared is: {rvalue**2}\")\n",
    "plt.show()"
   ]
  },
  {
   "cell_type": "markdown",
   "metadata": {},
   "source": [
    "####  Northern Hemisphere - Humidity (%) vs. Latitude Linear Regression"
   ]
  },
  {
   "cell_type": "code",
   "execution_count": 82,
   "metadata": {},
   "outputs": [
    {
     "name": "stdout",
     "output_type": "stream",
     "text": [
      "The r-squared is: 0.04821151997430835\n"
     ]
    },
    {
     "data": {
      "image/png": "[encoded data removed]",
      "text/plain": [
       "<Figure size 432x288 with 1 Axes>"
      ]
     },
     "metadata": {
      "needs_background": "light"
     },
     "output_type": "display_data"
    }
   ],
   "source": [
    "x_values = northern_hem['Latitude']\n",
    "y_values = northern_hem['Humidity']\n",
    "(slope, intercept, rvalue, pvalue, stderr) = linregress(x_values, y_values)\n",
    "regress_values = x_values * slope + intercept\n",
    "line_eq = \"y = \" + str(round(slope,2)) + \"x + \" + str(round(intercept,2))\n",
    "plt.scatter(x_values,y_values)\n",
    "plt.plot(x_values,regress_values,\"r-\")\n",
    "plt.annotate(line_eq,(6,10),fontsize=15,color=\"red\")\n",
    "plt.xlabel('Latitude')\n",
    "plt.ylabel('Humidity')\n",
    "print(f\"The r-squared is: {rvalue**2}\")\n",
    "plt.show()"
   ]
  },
  {
   "cell_type": "markdown",
   "metadata": {},
   "source": [
    "####  Southern Hemisphere - Humidity (%) vs. Latitude Linear Regression"
   ]
  },
  {
   "cell_type": "code",
   "execution_count": 83,
   "metadata": {},
   "outputs": [
    {
     "name": "stdout",
     "output_type": "stream",
     "text": [
      "The r-squared is: 0.03403130535370009\n"
     ]
    },
    {
     "data": {
      "image/png": "[encoded data removed]",
      "text/plain": [
       "<Figure size 432x288 with 1 Axes>"
      ]
     },
     "metadata": {
      "needs_background": "light"
     },
     "output_type": "display_data"
    }
   ],
   "source": [
    "x_values = southern_hem['Latitude']\n",
    "y_values = southern_hem['Humidity']\n",
    "(slope, intercept, rvalue, pvalue, stderr) = linregress(x_values, y_values)\n",
    "regress_values = x_values * slope + intercept\n",
    "line_eq = \"y = \" + str(round(slope,2)) + \"x + \" + str(round(intercept,2))\n",
    "plt.scatter(x_values,y_values)\n",
    "plt.plot(x_values,regress_values,\"r-\")\n",
    "plt.annotate(line_eq,(6,10),fontsize=15,color=\"red\")\n",
    "plt.xlabel('Latitude')\n",
    "plt.ylabel('Humidity')\n",
    "print(f\"The r-squared is: {rvalue**2}\")\n",
    "plt.show()"
   ]
  },
  {
   "cell_type": "markdown",
   "metadata": {},
   "source": [
    "####  Northern Hemisphere - Cloudiness (%) vs. Latitude Linear Regression"
   ]
  },
  {
   "cell_type": "code",
   "execution_count": 85,
   "metadata": {},
   "outputs": [
    {
     "name": "stdout",
     "output_type": "stream",
     "text": [
      "The r-squared is: 0.018922677605314065\n"
     ]
    },
    {
     "data": {
      "image/png": "[encoded data removed]",
      "text/plain": [
       "<Figure size 432x288 with 1 Axes>"
      ]
     },
     "metadata": {
      "needs_background": "light"
     },
     "output_type": "display_data"
    }
   ],
   "source": [
    "x_values = northern_hem['Latitude']\n",
    "y_values = northern_hem['Cloudiness']\n",
    "(slope, intercept, rvalue, pvalue, stderr) = linregress(x_values, y_values)\n",
    "regress_values = x_values * slope + intercept\n",
    "line_eq = \"y = \" + str(round(slope,2)) + \"x + \" + str(round(intercept,2))\n",
    "plt.scatter(x_values,y_values)\n",
    "plt.plot(x_values,regress_values,\"r-\")\n",
    "plt.annotate(line_eq,(6,10),fontsize=15,color=\"red\")\n",
    "plt.xlabel('Latitude')\n",
    "plt.ylabel('Cloudiness')\n",
    "print(f\"The r-squared is: {rvalue**2}\")\n",
    "plt.show()"
   ]
  },
  {
   "cell_type": "markdown",
   "metadata": {},
   "source": [
    "####  Southern Hemisphere - Cloudiness (%) vs. Latitude Linear Regression"
   ]
  },
  {
   "cell_type": "code",
   "execution_count": 86,
   "metadata": {},
   "outputs": [
    {
     "name": "stdout",
     "output_type": "stream",
     "text": [
      "The r-squared is: 0.08563426796028621\n"
     ]
    },
    {
     "data": {
      "image/png": "[encoded data removed]",
      "text/plain": [
       "<Figure size 432x288 with 1 Axes>"
      ]
     },
     "metadata": {
      "needs_background": "light"
     },
     "output_type": "display_data"
    }
   ],
   "source": [
    "x_values = southern_hem['Latitude']\n",
    "y_values = southern_hem['Cloudiness']\n",
    "(slope, intercept, rvalue, pvalue, stderr) = linregress(x_values, y_values)\n",
    "regress_values = x_values * slope + intercept\n",
    "line_eq = \"y = \" + str(round(slope,2)) + \"x + \" + str(round(intercept,2))\n",
    "plt.scatter(x_values,y_values)\n",
    "plt.plot(x_values,regress_values,\"r-\")\n",
    "plt.annotate(line_eq,(6,10),fontsize=15,color=\"red\")\n",
    "plt.xlabel('Latitude')\n",
    "plt.ylabel('Cloudiness')\n",
    "print(f\"The r-squared is: {rvalue**2}\")\n",
    "plt.show()"
   ]
  },
  {
   "cell_type": "markdown",
   "metadata": {},
   "source": [
    "####  Northern Hemisphere - Wind Speed (mph) vs. Latitude Linear Regression"
   ]
  },
  {
   "cell_type": "code",
   "execution_count": 87,
   "metadata": {},
   "outputs": [
    {
     "name": "stdout",
     "output_type": "stream",
     "text": [
      "The r-squared is: 0.01122035347846993\n"
     ]
    },
    {
     "data": {
      "image/png": "[encoded data removed]",
      "text/plain": [
       "<Figure size 432x288 with 1 Axes>"
      ]
     },
     "metadata": {
      "needs_background": "light"
     },
     "output_type": "display_data"
    }
   ],
   "source": [
    "x_values = northern_hem['Latitude']\n",
    "y_values = northern_hem['Wind Speed']\n",
    "(slope, intercept, rvalue, pvalue, stderr) = linregress(x_values, y_values)\n",
    "regress_values = x_values * slope + intercept\n",
    "line_eq = \"y = \" + str(round(slope,2)) + \"x + \" + str(round(intercept,2))\n",
    "plt.scatter(x_values,y_values)\n",
    "plt.plot(x_values,regress_values,\"r-\")\n",
    "plt.annotate(line_eq,(6,10),fontsize=15,color=\"red\")\n",
    "plt.xlabel('Latitude')\n",
    "plt.ylabel('Wind Speed')\n",
    "print(f\"The r-squared is: {rvalue**2}\")\n",
    "plt.show()"
   ]
  },
  {
   "cell_type": "markdown",
   "metadata": {},
   "source": [
    "####  Southern Hemisphere - Wind Speed (mph) vs. Latitude Linear Regression"
   ]
  },
  {
   "cell_type": "code",
   "execution_count": 89,
   "metadata": {},
   "outputs": [
    {
     "name": "stdout",
     "output_type": "stream",
     "text": [
      "The r-squared is: 0.04548245642119248\n"
     ]
    },
    {
     "data": {
      "image/png": "[encoded data removed]",
      "text/plain": [
       "<Figure size 432x288 with 1 Axes>"
      ]
     },
     "metadata": {
      "needs_background": "light"
     },
     "output_type": "display_data"
    }
   ],
   "source": [
    "x_values = southern_hem['Latitude']\n",
    "y_values = southern_hem['Wind Speed']\n",
    "(slope, intercept, rvalue, pvalue, stderr) = linregress(x_values, y_values)\n",
    "regress_values = x_values * slope + intercept\n",
    "line_eq = \"y = \" + str(round(slope,2)) + \"x + \" + str(round(intercept,2))\n",
    "plt.scatter(x_values,y_values)\n",
    "plt.plot(x_values,regress_values,\"r-\")\n",
    "plt.annotate(line_eq,(6,10),fontsize=15,color=\"red\")\n",
    "plt.xlabel('Latitude')\n",
    "plt.ylabel('Wind Speed')\n",
    "print(f\"The r-squared is: {rvalue**2}\")\n",
    "plt.show()"
   ]
  },
  {
   "cell_type": "code",
   "execution_count": null,
   "metadata": {},
   "outputs": [],
   "source": []
  }
 ],
 "metadata": {
  "anaconda-cloud": {},
  "kernel_info": {
   "name": "python3"
  },
  "kernelspec": {
   "display_name": "Python 3",
   "language": "python",
   "name": "python3"
  },
  "language_info": {
   "codemirror_mode": {
    "name": "ipython",
    "version": 3
   },
   "file_extension": ".py",
   "mimetype": "text/x-python",
   "name": "python",
   "nbconvert_exporter": "python",
   "pygments_lexer": "ipython3",
   "version": "3.8.8"
  },
  "latex_envs": {
   "LaTeX_envs_menu_present": true,
   "autoclose": false,
   "autocomplete": true,
   "bibliofile": "biblio.bib",
   "cite_by": "apalike",
   "current_citInitial": 1,
   "eqLabelWithNumbers": true,
   "eqNumInitial": 1,
   "hotkeys": {
    "equation": "Ctrl-E",
    "itemize": "Ctrl-I"
   },
   "labels_anchors": false,
   "latex_user_defs": false,
   "report_style_numbering": false,
   "user_envs_cfg": false
  },
  "nteract": {
   "version": "0.12.3"
  }
 },
 "nbformat": 4,
 "nbformat_minor": 2
}
